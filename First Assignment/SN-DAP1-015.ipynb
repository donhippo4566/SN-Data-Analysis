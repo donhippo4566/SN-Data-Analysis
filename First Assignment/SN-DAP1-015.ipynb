{
 "cells": [
  {
   "cell_type": "markdown",
   "metadata": {},
   "source": [
    "STEPS I TOOK IN COMPLETING FIRST ASSIGNMENT"
   ]
  },
  {
   "cell_type": "markdown",
   "metadata": {},
   "source": [
    "Creating a GitHub repository (SN-Data-Analysis)\n",
    "    1) Installed GitHub from the URL; https://git-scm.com/download/win\n",
    "    2) Signed up for GitHub\n",
    "    3) Clicked on 'Start a project', first time using GitHub\n",
    "    4) Entered a repository name, 'SN-Data-Analysis'\n",
    "    5) Clicked 'Create repository'"
   ]
  },
  {
   "cell_type": "markdown",
   "metadata": {},
   "source": [
    "Creating a folder (First Assignment)\n",
    "    1) Clicked 'Create a new file'\n",
    "    2) Typed folder name 'First Assignment'\n",
    "    3) Created a file 'readme.md'\n",
    "    4) Clicked 'Commit changes'"
   ]
  },
  {
   "cell_type": "markdown",
   "metadata": {},
   "source": [
    "Uploading an empty Notebook to the repository\n",
    "    1) Launched Jupyter Notebook\n",
    "    2) Created a notebook 'SN-DAP1-015'\n",
    "    3) Copied the Http of the file created in GitHub\n",
    "    4) Launched Git Bash\n",
    "    5) Entered the command 'git clone' + 'Http copied' to display the files created in the current directory\n",
    "    6) Created another folder 'First Assignment 01'\n",
    "    7) Saved the notebook 'SN-DAP1-015' in 'First Assignment 01'"
   ]
  }
 ],
 "metadata": {
  "kernelspec": {
   "display_name": "Python 3",
   "language": "python",
   "name": "python3"
  },
  "language_info": {
   "codemirror_mode": {
    "name": "ipython",
    "version": 3
   },
   "file_extension": ".py",
   "mimetype": "text/x-python",
   "name": "python",
   "nbconvert_exporter": "python",
   "pygments_lexer": "ipython3",
   "version": "3.8.5"
  }
 },
 "nbformat": 4,
 "nbformat_minor": 4
}
